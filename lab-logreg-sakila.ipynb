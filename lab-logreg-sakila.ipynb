{
 "cells": [
  {
   "cell_type": "code",
   "execution_count": 11,
   "id": "5393e42f",
   "metadata": {},
   "outputs": [
    {
     "name": "stdout",
     "output_type": "stream",
     "text": [
      "········\n"
     ]
    }
   ],
   "source": [
    "import pandas as pd\n",
    "import matplotlib.pyplot as plt\n",
    "import seaborn as sns\n",
    "import numpy as np\n",
    "\n",
    "import pymysql\n",
    "from sqlalchemy import create_engine\n",
    "import getpass\n",
    "password = getpass.getpass()\n",
    "\n",
    "from imblearn.pipeline import Pipeline\n",
    "from sklearn.preprocessing import MinMaxScaler\n",
    "from sklearn.model_selection import train_test_split\n",
    "from sklearn.linear_model import LogisticRegression\n",
    "from sklearn.metrics import confusion_matrix, classification_report, ConfusionMatrixDisplay"
   ]
  },
  {
   "cell_type": "markdown",
   "id": "cabdbf9d",
   "metadata": {},
   "source": [
    "In order to optimize our inventory, we would like to know which films will be rented next month and we are asked to create a model to predict it.\n",
    "\n",
    "Instructions\n",
    "Create a query or queries to extract the information you think may be relevant for building the prediction model. It should include some film features and some rental features.\n",
    "Read the data into a Pandas dataframe.\n",
    "Analyze extracted features and transform them. You may need to encode some categorical variables, or scale numerical variables.\n",
    "Create a query to get the list of films and a boolean indicating if it was rented last month. This would be our target variable.\n",
    "Create a logistic regression model to predict this variable from the cleaned data.\n",
    "Evaluate the results."
   ]
  },
  {
   "cell_type": "markdown",
   "id": "e2faf05e",
   "metadata": {},
   "source": [
    "## Project definition"
   ]
  },
  {
   "cell_type": "code",
   "execution_count": 9,
   "id": "502f48fd",
   "metadata": {},
   "outputs": [
    {
     "data": {
      "text/html": [
       "<div>\n",
       "<style scoped>\n",
       "    .dataframe tbody tr th:only-of-type {\n",
       "        vertical-align: middle;\n",
       "    }\n",
       "\n",
       "    .dataframe tbody tr th {\n",
       "        vertical-align: top;\n",
       "    }\n",
       "\n",
       "    .dataframe thead th {\n",
       "        text-align: right;\n",
       "    }\n",
       "</style>\n",
       "<table border=\"1\" class=\"dataframe\">\n",
       "  <thead>\n",
       "    <tr style=\"text-align: right;\">\n",
       "      <th></th>\n",
       "      <th>film_id</th>\n",
       "      <th>title</th>\n",
       "      <th>description</th>\n",
       "      <th>release_year</th>\n",
       "      <th>language_id</th>\n",
       "      <th>original_language_id</th>\n",
       "      <th>rental_duration</th>\n",
       "      <th>rental_rate</th>\n",
       "      <th>length</th>\n",
       "      <th>replacement_cost</th>\n",
       "      <th>rating</th>\n",
       "      <th>special_features</th>\n",
       "      <th>last_update</th>\n",
       "      <th>film_id</th>\n",
       "      <th>times_rented</th>\n",
       "      <th>rental_year_month</th>\n",
       "    </tr>\n",
       "  </thead>\n",
       "  <tbody>\n",
       "    <tr>\n",
       "      <th>0</th>\n",
       "      <td>103</td>\n",
       "      <td>BUCKET BROTHERHOOD</td>\n",
       "      <td>A Amazing Display of a Girl And a Womanizer wh...</td>\n",
       "      <td>2006</td>\n",
       "      <td>1</td>\n",
       "      <td>None</td>\n",
       "      <td>7</td>\n",
       "      <td>4.99</td>\n",
       "      <td>133</td>\n",
       "      <td>27.99</td>\n",
       "      <td>PG</td>\n",
       "      <td>Commentaries,Deleted Scenes</td>\n",
       "      <td>2006-02-15 05:03:42</td>\n",
       "      <td>103</td>\n",
       "      <td>5</td>\n",
       "      <td>2005-5</td>\n",
       "    </tr>\n",
       "    <tr>\n",
       "      <th>1</th>\n",
       "      <td>450</td>\n",
       "      <td>IDOLS SNATCHERS</td>\n",
       "      <td>A Insightful Drama of a Car And a Composer who...</td>\n",
       "      <td>2006</td>\n",
       "      <td>1</td>\n",
       "      <td>None</td>\n",
       "      <td>5</td>\n",
       "      <td>2.99</td>\n",
       "      <td>84</td>\n",
       "      <td>29.99</td>\n",
       "      <td>NC-17</td>\n",
       "      <td>Trailers</td>\n",
       "      <td>2006-02-15 05:03:42</td>\n",
       "      <td>450</td>\n",
       "      <td>5</td>\n",
       "      <td>2005-5</td>\n",
       "    </tr>\n",
       "  </tbody>\n",
       "</table>\n",
       "</div>"
      ],
      "text/plain": [
       "   film_id               title  \\\n",
       "0      103  BUCKET BROTHERHOOD   \n",
       "1      450     IDOLS SNATCHERS   \n",
       "\n",
       "                                         description  release_year  \\\n",
       "0  A Amazing Display of a Girl And a Womanizer wh...          2006   \n",
       "1  A Insightful Drama of a Car And a Composer who...          2006   \n",
       "\n",
       "   language_id original_language_id  rental_duration  rental_rate  length  \\\n",
       "0            1                 None                7         4.99     133   \n",
       "1            1                 None                5         2.99      84   \n",
       "\n",
       "   replacement_cost rating             special_features         last_update  \\\n",
       "0             27.99     PG  Commentaries,Deleted Scenes 2006-02-15 05:03:42   \n",
       "1             29.99  NC-17                     Trailers 2006-02-15 05:03:42   \n",
       "\n",
       "   film_id  times_rented rental_year_month  \n",
       "0      103             5            2005-5  \n",
       "1      450             5            2005-5  "
      ]
     },
     "execution_count": 9,
     "metadata": {},
     "output_type": "execute_result"
    }
   ],
   "source": [
    "connection_string = 'mysql+pymysql://root:' + password + '@localhost/sakila'\n",
    "engine = create_engine(connection_string)\n",
    "\n",
    "q = '''\n",
    "SELECT *, \"2005-5\" AS rental_year_month\n",
    "  FROM film as f\n",
    "  JOIN (SELECT f.film_id, COUNT(*) times_rented\n",
    "\t\t  FROM rental as r\n",
    "\t\t  JOIN inventory as i\n",
    "\t\t\tON i.inventory_id = r.inventory_id\n",
    "\t\t  JOIN film as f\n",
    "\t\t\tON f.film_id = i.film_id\n",
    "\t\t WHERE SUBSTRING(r.rental_date, 1, 7) = \"2005-05\"\n",
    "\t\t GROUP BY f.film_id) as q\n",
    "\tON q.film_id = f.film_id\n",
    " ORDER BY q.times_rented DESC;\n",
    "'''\n",
    "\n",
    "data = pd.read_sql_query(q, engine)\n",
    "data.head(2)"
   ]
  },
  {
   "cell_type": "code",
   "execution_count": 10,
   "id": "7ff2750b",
   "metadata": {},
   "outputs": [
    {
     "data": {
      "text/plain": [
       "(686, 16)"
      ]
     },
     "execution_count": 10,
     "metadata": {},
     "output_type": "execute_result"
    }
   ],
   "source": [
    "data.shape"
   ]
  },
  {
   "cell_type": "code",
   "execution_count": null,
   "id": "d05b911b",
   "metadata": {},
   "outputs": [],
   "source": []
  }
 ],
 "metadata": {
  "kernelspec": {
   "display_name": "Python 3 (ipykernel)",
   "language": "python",
   "name": "python3"
  },
  "language_info": {
   "codemirror_mode": {
    "name": "ipython",
    "version": 3
   },
   "file_extension": ".py",
   "mimetype": "text/x-python",
   "name": "python",
   "nbconvert_exporter": "python",
   "pygments_lexer": "ipython3",
   "version": "3.9.12"
  }
 },
 "nbformat": 4,
 "nbformat_minor": 5
}
