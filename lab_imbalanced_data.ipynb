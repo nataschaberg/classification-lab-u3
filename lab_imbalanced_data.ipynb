{
 "cells": [
  {
   "cell_type": "code",
   "execution_count": 1,
   "id": "e27e5aef",
   "metadata": {},
   "outputs": [],
   "source": [
    "import re\n",
    "import imblearn\n",
    "import pandas as pd\n",
    "import numpy as np\n",
    "import matplotlib.pyplot as plt\n",
    "\n",
    "from imblearn.pipeline import Pipeline\n",
    "from sklearn.preprocessing import MinMaxScaler\n",
    "from sklearn.model_selection import train_test_split\n",
    "from sklearn.linear_model import LogisticRegression\n",
    "from sklearn.metrics import confusion_matrix, classification_report, ConfusionMatrixDisplay\n",
    "from imblearn.over_sampling import SMOTE\n",
    "from imblearn.under_sampling import TomekLinks\n",
    "\n",
    "from sklearn import set_config\n",
    "set_config(display=\"diagram\")\n",
    "\n",
    "import warnings\n",
    "warnings.filterwarnings('ignore')"
   ]
  },
  {
   "cell_type": "code",
   "execution_count": 2,
   "id": "18ef2802",
   "metadata": {},
   "outputs": [],
   "source": [
    "df_initial = pd.read_csv('files_for_lab/customer_churn.csv')"
   ]
  },
  {
   "cell_type": "code",
   "execution_count": 3,
   "id": "511a8e94",
   "metadata": {},
   "outputs": [
    {
     "data": {
      "text/html": [
       "<div>\n",
       "<style scoped>\n",
       "    .dataframe tbody tr th:only-of-type {\n",
       "        vertical-align: middle;\n",
       "    }\n",
       "\n",
       "    .dataframe tbody tr th {\n",
       "        vertical-align: top;\n",
       "    }\n",
       "\n",
       "    .dataframe thead th {\n",
       "        text-align: right;\n",
       "    }\n",
       "</style>\n",
       "<table border=\"1\" class=\"dataframe\">\n",
       "  <thead>\n",
       "    <tr style=\"text-align: right;\">\n",
       "      <th></th>\n",
       "      <th>customerID</th>\n",
       "      <th>gender</th>\n",
       "      <th>SeniorCitizen</th>\n",
       "      <th>Partner</th>\n",
       "      <th>Dependents</th>\n",
       "      <th>tenure</th>\n",
       "      <th>PhoneService</th>\n",
       "      <th>MultipleLines</th>\n",
       "      <th>InternetService</th>\n",
       "      <th>OnlineSecurity</th>\n",
       "      <th>...</th>\n",
       "      <th>DeviceProtection</th>\n",
       "      <th>TechSupport</th>\n",
       "      <th>StreamingTV</th>\n",
       "      <th>StreamingMovies</th>\n",
       "      <th>Contract</th>\n",
       "      <th>PaperlessBilling</th>\n",
       "      <th>PaymentMethod</th>\n",
       "      <th>MonthlyCharges</th>\n",
       "      <th>TotalCharges</th>\n",
       "      <th>Churn</th>\n",
       "    </tr>\n",
       "  </thead>\n",
       "  <tbody>\n",
       "    <tr>\n",
       "      <th>0</th>\n",
       "      <td>7590-VHVEG</td>\n",
       "      <td>Female</td>\n",
       "      <td>0</td>\n",
       "      <td>Yes</td>\n",
       "      <td>No</td>\n",
       "      <td>1</td>\n",
       "      <td>No</td>\n",
       "      <td>No phone service</td>\n",
       "      <td>DSL</td>\n",
       "      <td>No</td>\n",
       "      <td>...</td>\n",
       "      <td>No</td>\n",
       "      <td>No</td>\n",
       "      <td>No</td>\n",
       "      <td>No</td>\n",
       "      <td>Month-to-month</td>\n",
       "      <td>Yes</td>\n",
       "      <td>Electronic check</td>\n",
       "      <td>29.85</td>\n",
       "      <td>29.85</td>\n",
       "      <td>No</td>\n",
       "    </tr>\n",
       "    <tr>\n",
       "      <th>1</th>\n",
       "      <td>5575-GNVDE</td>\n",
       "      <td>Male</td>\n",
       "      <td>0</td>\n",
       "      <td>No</td>\n",
       "      <td>No</td>\n",
       "      <td>34</td>\n",
       "      <td>Yes</td>\n",
       "      <td>No</td>\n",
       "      <td>DSL</td>\n",
       "      <td>Yes</td>\n",
       "      <td>...</td>\n",
       "      <td>Yes</td>\n",
       "      <td>No</td>\n",
       "      <td>No</td>\n",
       "      <td>No</td>\n",
       "      <td>One year</td>\n",
       "      <td>No</td>\n",
       "      <td>Mailed check</td>\n",
       "      <td>56.95</td>\n",
       "      <td>1889.5</td>\n",
       "      <td>No</td>\n",
       "    </tr>\n",
       "    <tr>\n",
       "      <th>2</th>\n",
       "      <td>3668-QPYBK</td>\n",
       "      <td>Male</td>\n",
       "      <td>0</td>\n",
       "      <td>No</td>\n",
       "      <td>No</td>\n",
       "      <td>2</td>\n",
       "      <td>Yes</td>\n",
       "      <td>No</td>\n",
       "      <td>DSL</td>\n",
       "      <td>Yes</td>\n",
       "      <td>...</td>\n",
       "      <td>No</td>\n",
       "      <td>No</td>\n",
       "      <td>No</td>\n",
       "      <td>No</td>\n",
       "      <td>Month-to-month</td>\n",
       "      <td>Yes</td>\n",
       "      <td>Mailed check</td>\n",
       "      <td>53.85</td>\n",
       "      <td>108.15</td>\n",
       "      <td>Yes</td>\n",
       "    </tr>\n",
       "  </tbody>\n",
       "</table>\n",
       "<p>3 rows × 21 columns</p>\n",
       "</div>"
      ],
      "text/plain": [
       "   customerID  gender  SeniorCitizen Partner Dependents  tenure PhoneService  \\\n",
       "0  7590-VHVEG  Female              0     Yes         No       1           No   \n",
       "1  5575-GNVDE    Male              0      No         No      34          Yes   \n",
       "2  3668-QPYBK    Male              0      No         No       2          Yes   \n",
       "\n",
       "      MultipleLines InternetService OnlineSecurity  ... DeviceProtection  \\\n",
       "0  No phone service             DSL             No  ...               No   \n",
       "1                No             DSL            Yes  ...              Yes   \n",
       "2                No             DSL            Yes  ...               No   \n",
       "\n",
       "  TechSupport StreamingTV StreamingMovies        Contract PaperlessBilling  \\\n",
       "0          No          No              No  Month-to-month              Yes   \n",
       "1          No          No              No        One year               No   \n",
       "2          No          No              No  Month-to-month              Yes   \n",
       "\n",
       "      PaymentMethod MonthlyCharges  TotalCharges Churn  \n",
       "0  Electronic check          29.85         29.85    No  \n",
       "1      Mailed check          56.95        1889.5    No  \n",
       "2      Mailed check          53.85        108.15   Yes  \n",
       "\n",
       "[3 rows x 21 columns]"
      ]
     },
     "execution_count": 3,
     "metadata": {},
     "output_type": "execute_result"
    }
   ],
   "source": [
    "df_initial.head(3)"
   ]
  },
  {
   "cell_type": "code",
   "execution_count": 4,
   "id": "2fd99852",
   "metadata": {},
   "outputs": [],
   "source": [
    "class CustomInitialDataCleaner:\n",
    "    def __init__(self, drop_features=[]):\n",
    "        self.drop_features = drop_features\n",
    "    \n",
    "    def __remove_duplicates(self, X):\n",
    "        return X[~X.duplicated()]\n",
    "    \n",
    "    def __drop_features(self, X):\n",
    "        return X.drop(self.drop_features, axis=1, inplace=False)\n",
    "    \n",
    "    def __camel_to_snake(self, name):\n",
    "        name = re.sub('(.)([A-Z][a-z]+)', r'\\1_\\2', name)\n",
    "        return re.sub('([a-z0-9])([A-Z])', r'\\1_\\2', name).lower()\n",
    "    \n",
    "    def __standardize_feature_headers(self, X):\n",
    "        X.columns = [self.__camel_to_snake(col) for col in X.columns]\n",
    "        return X\n",
    "        \n",
    "    def clean(self, X):\n",
    "        X = self.__remove_duplicates(X)\n",
    "        X = self.__drop_features(X)\n",
    "        return self.__standardize_feature_headers(X)"
   ]
  },
  {
   "cell_type": "code",
   "execution_count": 5,
   "id": "95a030dc",
   "metadata": {
    "scrolled": true
   },
   "outputs": [
    {
     "data": {
      "text/html": [
       "<div>\n",
       "<style scoped>\n",
       "    .dataframe tbody tr th:only-of-type {\n",
       "        vertical-align: middle;\n",
       "    }\n",
       "\n",
       "    .dataframe tbody tr th {\n",
       "        vertical-align: top;\n",
       "    }\n",
       "\n",
       "    .dataframe thead th {\n",
       "        text-align: right;\n",
       "    }\n",
       "</style>\n",
       "<table border=\"1\" class=\"dataframe\">\n",
       "  <thead>\n",
       "    <tr style=\"text-align: right;\">\n",
       "      <th></th>\n",
       "      <th>gender</th>\n",
       "      <th>senior_citizen</th>\n",
       "      <th>partner</th>\n",
       "      <th>dependents</th>\n",
       "      <th>tenure</th>\n",
       "      <th>phone_service</th>\n",
       "      <th>multiple_lines</th>\n",
       "      <th>internet_service</th>\n",
       "      <th>online_security</th>\n",
       "      <th>online_backup</th>\n",
       "      <th>device_protection</th>\n",
       "      <th>tech_support</th>\n",
       "      <th>streaming_tv</th>\n",
       "      <th>streaming_movies</th>\n",
       "      <th>contract</th>\n",
       "      <th>paperless_billing</th>\n",
       "      <th>payment_method</th>\n",
       "      <th>monthly_charges</th>\n",
       "      <th>total_charges</th>\n",
       "      <th>churn</th>\n",
       "    </tr>\n",
       "  </thead>\n",
       "  <tbody>\n",
       "    <tr>\n",
       "      <th>0</th>\n",
       "      <td>Female</td>\n",
       "      <td>0</td>\n",
       "      <td>Yes</td>\n",
       "      <td>No</td>\n",
       "      <td>1</td>\n",
       "      <td>No</td>\n",
       "      <td>No phone service</td>\n",
       "      <td>DSL</td>\n",
       "      <td>No</td>\n",
       "      <td>Yes</td>\n",
       "      <td>No</td>\n",
       "      <td>No</td>\n",
       "      <td>No</td>\n",
       "      <td>No</td>\n",
       "      <td>Month-to-month</td>\n",
       "      <td>Yes</td>\n",
       "      <td>Electronic check</td>\n",
       "      <td>29.85</td>\n",
       "      <td>29.85</td>\n",
       "      <td>No</td>\n",
       "    </tr>\n",
       "    <tr>\n",
       "      <th>1</th>\n",
       "      <td>Male</td>\n",
       "      <td>0</td>\n",
       "      <td>No</td>\n",
       "      <td>No</td>\n",
       "      <td>34</td>\n",
       "      <td>Yes</td>\n",
       "      <td>No</td>\n",
       "      <td>DSL</td>\n",
       "      <td>Yes</td>\n",
       "      <td>No</td>\n",
       "      <td>Yes</td>\n",
       "      <td>No</td>\n",
       "      <td>No</td>\n",
       "      <td>No</td>\n",
       "      <td>One year</td>\n",
       "      <td>No</td>\n",
       "      <td>Mailed check</td>\n",
       "      <td>56.95</td>\n",
       "      <td>1889.5</td>\n",
       "      <td>No</td>\n",
       "    </tr>\n",
       "    <tr>\n",
       "      <th>2</th>\n",
       "      <td>Male</td>\n",
       "      <td>0</td>\n",
       "      <td>No</td>\n",
       "      <td>No</td>\n",
       "      <td>2</td>\n",
       "      <td>Yes</td>\n",
       "      <td>No</td>\n",
       "      <td>DSL</td>\n",
       "      <td>Yes</td>\n",
       "      <td>Yes</td>\n",
       "      <td>No</td>\n",
       "      <td>No</td>\n",
       "      <td>No</td>\n",
       "      <td>No</td>\n",
       "      <td>Month-to-month</td>\n",
       "      <td>Yes</td>\n",
       "      <td>Mailed check</td>\n",
       "      <td>53.85</td>\n",
       "      <td>108.15</td>\n",
       "      <td>Yes</td>\n",
       "    </tr>\n",
       "  </tbody>\n",
       "</table>\n",
       "</div>"
      ],
      "text/plain": [
       "   gender  senior_citizen partner dependents  tenure phone_service  \\\n",
       "0  Female               0     Yes         No       1            No   \n",
       "1    Male               0      No         No      34           Yes   \n",
       "2    Male               0      No         No       2           Yes   \n",
       "\n",
       "     multiple_lines internet_service online_security online_backup  \\\n",
       "0  No phone service              DSL              No           Yes   \n",
       "1                No              DSL             Yes            No   \n",
       "2                No              DSL             Yes           Yes   \n",
       "\n",
       "  device_protection tech_support streaming_tv streaming_movies  \\\n",
       "0                No           No           No               No   \n",
       "1               Yes           No           No               No   \n",
       "2                No           No           No               No   \n",
       "\n",
       "         contract paperless_billing    payment_method  monthly_charges  \\\n",
       "0  Month-to-month               Yes  Electronic check            29.85   \n",
       "1        One year                No      Mailed check            56.95   \n",
       "2  Month-to-month               Yes      Mailed check            53.85   \n",
       "\n",
       "  total_charges churn  \n",
       "0         29.85    No  \n",
       "1        1889.5    No  \n",
       "2        108.15   Yes  "
      ]
     },
     "execution_count": 5,
     "metadata": {},
     "output_type": "execute_result"
    }
   ],
   "source": [
    "custom_cleaner = CustomInitialDataCleaner(drop_features=['customerID'])\n",
    "df = custom_cleaner.clean(df_initial)\n",
    "df.head(3)"
   ]
  },
  {
   "cell_type": "markdown",
   "id": "59a5e8ca",
   "metadata": {},
   "source": [
    "## EDA"
   ]
  },
  {
   "cell_type": "code",
   "execution_count": 6,
   "id": "ed4a9657",
   "metadata": {},
   "outputs": [
    {
     "data": {
      "text/plain": [
       "senior_citizen                                                [0, 1]\n",
       "tenure             [1, 34, 2, 45, 8, 22, 10, 28, 62, 13, 16, 58, ...\n",
       "monthly_charges    [29.85, 56.95, 53.85, 42.3, 70.7, 99.65, 89.1,...\n",
       "dtype: object"
      ]
     },
     "execution_count": 6,
     "metadata": {},
     "output_type": "execute_result"
    }
   ],
   "source": [
    "df.select_dtypes('number').apply(lambda col: col.unique())"
   ]
  },
  {
   "cell_type": "code",
   "execution_count": 7,
   "id": "b95fb678",
   "metadata": {},
   "outputs": [
    {
     "data": {
      "text/plain": [
       "gender                                                  [Female, Male]\n",
       "partner                                                      [Yes, No]\n",
       "dependents                                                   [No, Yes]\n",
       "phone_service                                                [No, Yes]\n",
       "multiple_lines                             [No phone service, No, Yes]\n",
       "internet_service                                [DSL, Fiber optic, No]\n",
       "online_security                         [No, Yes, No internet service]\n",
       "online_backup                           [Yes, No, No internet service]\n",
       "device_protection                       [No, Yes, No internet service]\n",
       "tech_support                            [No, Yes, No internet service]\n",
       "streaming_tv                            [No, Yes, No internet service]\n",
       "streaming_movies                        [No, Yes, No internet service]\n",
       "contract                          [Month-to-month, One year, Two year]\n",
       "paperless_billing                                            [Yes, No]\n",
       "payment_method       [Electronic check, Mailed check, Bank transfer...\n",
       "total_charges        [29.85, 1889.5, 108.15, 1840.75, 151.65, 820.5...\n",
       "churn                                                        [No, Yes]\n",
       "dtype: object"
      ]
     },
     "execution_count": 7,
     "metadata": {},
     "output_type": "execute_result"
    }
   ],
   "source": [
    "df.select_dtypes('object').apply(lambda col: col.unique())"
   ]
  },
  {
   "cell_type": "code",
   "execution_count": 8,
   "id": "cbf7aa20",
   "metadata": {},
   "outputs": [
    {
     "data": {
      "text/plain": [
       "No     5174\n",
       "Yes    1869\n",
       "Name: churn, dtype: int64"
      ]
     },
     "execution_count": 8,
     "metadata": {},
     "output_type": "execute_result"
    }
   ],
   "source": [
    "df['churn'].value_counts()"
   ]
  },
  {
   "cell_type": "code",
   "execution_count": 9,
   "id": "066b2d27",
   "metadata": {},
   "outputs": [
    {
     "data": {
      "text/plain": [
       "No     0.73463\n",
       "Yes    0.26537\n",
       "Name: churn, dtype: float64"
      ]
     },
     "execution_count": 9,
     "metadata": {},
     "output_type": "execute_result"
    }
   ],
   "source": [
    "# show percentages\n",
    "df['churn'].value_counts() / df.shape[0]"
   ]
  },
  {
   "cell_type": "code",
   "execution_count": 10,
   "id": "8d28d71b",
   "metadata": {},
   "outputs": [
    {
     "data": {
      "text/plain": [
       "gender               0\n",
       "senior_citizen       0\n",
       "partner              0\n",
       "dependents           0\n",
       "tenure               0\n",
       "phone_service        0\n",
       "multiple_lines       0\n",
       "internet_service     0\n",
       "online_security      0\n",
       "online_backup        0\n",
       "device_protection    0\n",
       "tech_support         0\n",
       "streaming_tv         0\n",
       "streaming_movies     0\n",
       "contract             0\n",
       "paperless_billing    0\n",
       "payment_method       0\n",
       "monthly_charges      0\n",
       "total_charges        0\n",
       "churn                0\n",
       "dtype: int64"
      ]
     },
     "execution_count": 10,
     "metadata": {},
     "output_type": "execute_result"
    }
   ],
   "source": [
    "df.isna().sum()"
   ]
  },
  {
   "cell_type": "markdown",
   "id": "3be4eeac",
   "metadata": {},
   "source": [
    "## Data Preprocessing"
   ]
  },
  {
   "cell_type": "markdown",
   "id": "b0059f46",
   "metadata": {},
   "source": [
    "- Logistic Regression will only be done on variables tenure, senior_citizen and monthly_charges\n",
    "- tagret variable is churn"
   ]
  },
  {
   "cell_type": "code",
   "execution_count": 11,
   "id": "579ba638",
   "metadata": {},
   "outputs": [],
   "source": [
    "# exract only the relevant features + target from dataset\n",
    "df_final = df[['tenure', 'senior_citizen', 'monthly_charges', 'churn']]"
   ]
  },
  {
   "cell_type": "code",
   "execution_count": 12,
   "id": "4abf5239",
   "metadata": {},
   "outputs": [],
   "source": [
    "X = df_final.drop('churn', axis=1, inplace=False)\n",
    "y = df_final['churn']\n",
    "\n",
    "X_train, X_test, y_train, y_test = train_test_split(X, y, test_size=0.2, random_state=42, stratify=y)"
   ]
  },
  {
   "cell_type": "code",
   "execution_count": 13,
   "id": "ab1ed293",
   "metadata": {},
   "outputs": [],
   "source": [
    "def make_custom_pipeline_with_sampler(sampler):\n",
    "    p = Pipeline([\n",
    "        ('scaling', MinMaxScaler()),\n",
    "        ('sampling', sampler),\n",
    "        ('model', LogisticRegression(random_state=42, max_iter=1000))\n",
    "    ])\n",
    "    return p\n",
    "    \n",
    "def make_custom_pipeline_no_sampler():\n",
    "    p = Pipeline([\n",
    "        ('scaling', MinMaxScaler()),\n",
    "        ('model', LogisticRegression(random_state=42, max_iter=1000))\n",
    "    ])\n",
    "    return p"
   ]
  },
  {
   "cell_type": "markdown",
   "id": "525cfc78",
   "metadata": {},
   "source": [
    "### Evaluate Models"
   ]
  },
  {
   "cell_type": "code",
   "execution_count": 14,
   "id": "42122bd9",
   "metadata": {},
   "outputs": [],
   "source": [
    "# utility function to add model results to dataframe of overall overview\n",
    "def add_scores_to_overall_results(df_results, scores_test, sampler, estimator):\n",
    "    df_results.loc[df_results.shape[0]] = [get_class_name(estimator), get_class_name(sampler) if sampler else None,\n",
    "                                          scores_test.at[\"accuracy\",\"f1-score\"], scores_test.at[\"Yes\",\"f1-score\"],\n",
    "                                          scores_test.at[\"Yes\",\"precision\"], scores_test.at[\"Yes\",\"recall\"],\n",
    "                                          scores_test.at[\"No\",\"f1-score\"], scores_test.at[\"No\",\"precision\"],\n",
    "                                          scores_test.at[\"No\",\"recall\"]]\n",
    "\n",
    "model_comparisson = pd.DataFrame([], columns=['model', 'sampler', 'f1_score', 'yes_f1', \\\n",
    "                                          'yes_precision', 'yes_recall', 'no_f1', 'no_precision', 'no_recall'])\n",
    "\n",
    "def get_class_name(cl):\n",
    "    return cl.__class__.__name__\n",
    "\n",
    "def show_confusion_matrix(y_pred, y_test, classes, title):\n",
    "    cm = confusion_matrix(y_test, y_pred, labels=classes)\n",
    "    disp = ConfusionMatrixDisplay(confusion_matrix=cm, display_labels=classes)\n",
    "    disp.plot(colorbar=False)\n",
    "    disp.ax_.set_title(title)\n",
    "    plt.show()"
   ]
  },
  {
   "cell_type": "code",
   "execution_count": 15,
   "id": "ad79177c",
   "metadata": {},
   "outputs": [
    {
     "name": "stdout",
     "output_type": "stream",
     "text": [
      "LogisticRegression - no sampler\n",
      "              precision    recall  f1-score   support\n",
      "\n",
      "          No       0.82      0.90      0.86      1035\n",
      "         Yes       0.63      0.45      0.52       374\n",
      "\n",
      "    accuracy                           0.78      1409\n",
      "   macro avg       0.72      0.68      0.69      1409\n",
      "weighted avg       0.77      0.78      0.77      1409\n",
      "\n"
     ]
    },
    {
     "data": {
      "image/png": "[encoded data removed]",
      "text/plain": [
       "<Figure size 432x288 with 1 Axes>"
      ]
     },
     "metadata": {
      "needs_background": "light"
     },
     "output_type": "display_data"
    }
   ],
   "source": [
    "# MinMax scaler with LogisticRegression - no sampler\n",
    "log_reg = make_custom_pipeline_no_sampler()\n",
    "log_reg.fit(X_train, y_train)\n",
    "# predict\n",
    "log_reg_y_pred = log_reg.predict(X_test)\n",
    "print('LogisticRegression - no sampler')\n",
    "print(classification_report(y_test, log_reg_y_pred))\n",
    "scores_test_logreg = pd.DataFrame(classification_report(y_test, log_reg_y_pred, output_dict=True)).T\n",
    "add_scores_to_overall_results(model_comparisson, scores_test_logreg, None, log_reg[1])\n",
    "show_confusion_matrix(log_reg_y_pred, y_test, log_reg[1].classes_, 'CM Test - LogReg no sampler')"
   ]
  },
  {
   "cell_type": "code",
   "execution_count": 16,
   "id": "f99c8906",
   "metadata": {},
   "outputs": [
    {
     "name": "stdout",
     "output_type": "stream",
     "text": [
      "LogisticRegression - SMOTE\n",
      "              precision    recall  f1-score   support\n",
      "\n",
      "          No       0.89      0.71      0.79      1035\n",
      "         Yes       0.49      0.76      0.59       374\n",
      "\n",
      "    accuracy                           0.73      1409\n",
      "   macro avg       0.69      0.74      0.69      1409\n",
      "weighted avg       0.78      0.73      0.74      1409\n",
      "\n"
     ]
    },
    {
     "data": {
      "image/png": "[encoded data removed]",
      "text/plain": [
       "<Figure size 432x288 with 1 Axes>"
      ]
     },
     "metadata": {
      "needs_background": "light"
     },
     "output_type": "display_data"
    }
   ],
   "source": [
    "# MinMax scaler with LogisticRegression - sampler: SMOTE\n",
    "log_reg_smote = make_custom_pipeline_with_sampler(SMOTE())\n",
    "log_reg_smote.fit(X_train, y_train)\n",
    "\n",
    "log_reg_smote_y_pred = log_reg_smote.predict(X_test)\n",
    "print('LogisticRegression - SMOTE')\n",
    "print(classification_report(y_test, log_reg_smote_y_pred))\n",
    "scores_test_logregsmote = pd.DataFrame(classification_report(y_test, log_reg_smote_y_pred, output_dict=True)).T\n",
    "add_scores_to_overall_results(model_comparisson, scores_test_logregsmote, log_reg_smote[1], log_reg_smote[2])\n",
    "show_confusion_matrix(log_reg_smote_y_pred, y_test, log_reg_smote[2].classes_, 'CM Test - LogReg and SMOTE')"
   ]
  },
  {
   "cell_type": "code",
   "execution_count": 17,
   "id": "fa1bd9b9",
   "metadata": {},
   "outputs": [
    {
     "name": "stdout",
     "output_type": "stream",
     "text": [
      "LogisticRegression - TOMEK\n",
      "              precision    recall  f1-score   support\n",
      "\n",
      "          No       0.84      0.87      0.85      1035\n",
      "         Yes       0.59      0.54      0.56       374\n",
      "\n",
      "    accuracy                           0.78      1409\n",
      "   macro avg       0.71      0.70      0.71      1409\n",
      "weighted avg       0.77      0.78      0.78      1409\n",
      "\n"
     ]
    },
    {
     "data": {
      "image/png": "[encoded data removed]",
      "text/plain": [
       "<Figure size 432x288 with 1 Axes>"
      ]
     },
     "metadata": {
      "needs_background": "light"
     },
     "output_type": "display_data"
    }
   ],
   "source": [
    "# MinMax scaler with LogisticRegression - sampler: TomekLinks\n",
    "log_reg_tomek = make_custom_pipeline_with_sampler(TomekLinks())\n",
    "log_reg_tomek.fit(X_train, y_train)\n",
    "\n",
    "log_reg_tomek_y_pred = log_reg_tomek.predict(X_test)\n",
    "print('LogisticRegression - TOMEK')\n",
    "print(classification_report(y_test, log_reg_tomek_y_pred))\n",
    "\n",
    "scores_test_logregtomek = pd.DataFrame(classification_report(y_test, log_reg_tomek_y_pred, output_dict=True)).T\n",
    "add_scores_to_overall_results(model_comparisson, scores_test_logregtomek, log_reg_tomek[1], log_reg_tomek[2])\n",
    "show_confusion_matrix(log_reg_tomek_y_pred, y_test, log_reg_tomek[2].classes_, 'CM Test - LogReg and TomekLinks')"
   ]
  },
  {
   "cell_type": "markdown",
   "id": "27b14851",
   "metadata": {},
   "source": [
    "### Models in comparisson"
   ]
  },
  {
   "cell_type": "code",
   "execution_count": 18,
   "id": "0befb7b2",
   "metadata": {},
   "outputs": [
    {
     "data": {
      "text/html": [
       "<div>\n",
       "<style scoped>\n",
       "    .dataframe tbody tr th:only-of-type {\n",
       "        vertical-align: middle;\n",
       "    }\n",
       "\n",
       "    .dataframe tbody tr th {\n",
       "        vertical-align: top;\n",
       "    }\n",
       "\n",
       "    .dataframe thead th {\n",
       "        text-align: right;\n",
       "    }\n",
       "</style>\n",
       "<table border=\"1\" class=\"dataframe\">\n",
       "  <thead>\n",
       "    <tr style=\"text-align: right;\">\n",
       "      <th></th>\n",
       "      <th>model</th>\n",
       "      <th>sampler</th>\n",
       "      <th>f1_score</th>\n",
       "      <th>yes_f1</th>\n",
       "      <th>yes_precision</th>\n",
       "      <th>yes_recall</th>\n",
       "      <th>no_f1</th>\n",
       "      <th>no_precision</th>\n",
       "      <th>no_recall</th>\n",
       "    </tr>\n",
       "  </thead>\n",
       "  <tbody>\n",
       "    <tr>\n",
       "      <th>0</th>\n",
       "      <td>LogisticRegression</td>\n",
       "      <td>None</td>\n",
       "      <td>0.783534</td>\n",
       "      <td>0.524181</td>\n",
       "      <td>0.629213</td>\n",
       "      <td>0.449198</td>\n",
       "      <td>0.859899</td>\n",
       "      <td>0.819615</td>\n",
       "      <td>0.904348</td>\n",
       "    </tr>\n",
       "    <tr>\n",
       "      <th>1</th>\n",
       "      <td>LogisticRegression</td>\n",
       "      <td>SMOTE</td>\n",
       "      <td>0.725337</td>\n",
       "      <td>0.594764</td>\n",
       "      <td>0.488812</td>\n",
       "      <td>0.759358</td>\n",
       "      <td>0.792271</td>\n",
       "      <td>0.891304</td>\n",
       "      <td>0.713043</td>\n",
       "    </tr>\n",
       "    <tr>\n",
       "      <th>2</th>\n",
       "      <td>LogisticRegression</td>\n",
       "      <td>TomekLinks</td>\n",
       "      <td>0.778566</td>\n",
       "      <td>0.563025</td>\n",
       "      <td>0.591176</td>\n",
       "      <td>0.537433</td>\n",
       "      <td>0.851711</td>\n",
       "      <td>0.838167</td>\n",
       "      <td>0.865700</td>\n",
       "    </tr>\n",
       "  </tbody>\n",
       "</table>\n",
       "</div>"
      ],
      "text/plain": [
       "                model     sampler  f1_score    yes_f1  yes_precision  \\\n",
       "0  LogisticRegression        None  0.783534  0.524181       0.629213   \n",
       "1  LogisticRegression       SMOTE  0.725337  0.594764       0.488812   \n",
       "2  LogisticRegression  TomekLinks  0.778566  0.563025       0.591176   \n",
       "\n",
       "   yes_recall     no_f1  no_precision  no_recall  \n",
       "0    0.449198  0.859899      0.819615   0.904348  \n",
       "1    0.759358  0.792271      0.891304   0.713043  \n",
       "2    0.537433  0.851711      0.838167   0.865700  "
      ]
     },
     "execution_count": 18,
     "metadata": {},
     "output_type": "execute_result"
    }
   ],
   "source": [
    "model_comparisson"
   ]
  },
  {
   "cell_type": "markdown",
   "id": "a91e6ba1",
   "metadata": {},
   "source": [
    "Logistic Regression no sampler:\n",
    "- results from fitting the model on unbalanced data set gives us still a quite good f1 score since it probably  uses the class proportions of 27% vs 73% in dataset during fitting\n",
    "- we see however that recall for the minory class 'Yes' is 0.45 which would indicate that the model does not recognize nearly 50% of the 'Yes' cases correctly\n",
    "\n",
    "Logistic Regression with SMOTE:\n",
    "- Here the f1 score is a little lower compared to the first model, but we see that recall has improved significantly for the positive class (minority class). However, the precision for minority class dropped\n",
    "\n",
    "Logistic Regression with Tomek Links:\n",
    "- Here the f1 score is the second best for the three models, also notable is that the minor class recall and precision are much more balanced in comparisson to the other two models. \n",
    "\n",
    "It is important to point out that depending on my use case I would decide on which model to use. Just considering the overall f1 score is not enough. If e.g. I need to make sure that all my positive cases are correctly predicted I would go for the second model (from this selection) since here the recall for positive class it the highest. If I need a more balanced approach where precision is above 50% and recall is above 50% I would chose the third model (again, just judging based on this selection of models).   \n"
   ]
  },
  {
   "cell_type": "code",
   "execution_count": null,
   "id": "288785b4",
   "metadata": {},
   "outputs": [],
   "source": []
  }
 ],
 "metadata": {
  "kernelspec": {
   "display_name": "Python 3 (ipykernel)",
   "language": "python",
   "name": "python3"
  },
  "language_info": {
   "codemirror_mode": {
    "name": "ipython",
    "version": 3
   },
   "file_extension": ".py",
   "mimetype": "text/x-python",
   "name": "python",
   "nbconvert_exporter": "python",
   "pygments_lexer": "ipython3",
   "version": "3.9.12"
  }
 },
 "nbformat": 4,
 "nbformat_minor": 5
}
